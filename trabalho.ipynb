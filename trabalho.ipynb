{
 "cells": [
  {
   "cell_type": "code",
   "execution_count": 1,
   "metadata": {},
   "outputs": [],
   "source": [
    "import pandas as pd\n",
    "import numpy as np"
   ]
  },
  {
   "cell_type": "code",
   "execution_count": 2,
   "metadata": {},
   "outputs": [
    {
     "name": "stdout",
     "output_type": "stream",
     "text": [
      "Dados limpos:\n",
      "                      Faminas  Bar do Lu  Bar da fatinha  Praca do rosario  \\\n",
      "Joao pinheiro             460        220             550                60   \n",
      "Faminas                     0        430             350               480   \n",
      "Mansao gastropub          350        190             300               240   \n",
      "Bar da fatinha            350        260               0               430   \n",
      "Bar do broa               520        300             580                85   \n",
      "Rei do cachorao           510        250             460                20   \n",
      "Lagoa da Gavea            660        170             280               180   \n",
      "Cristo                    630        170             330               110   \n",
      "Bar betinho               800        270             480                50   \n",
      "Santa marcelina           680        170             360               120   \n",
      "Hospital Sao Paulo        780        250             460               130   \n",
      "Praca do rosario          750        220             430                 0   \n",
      "Inove                     650         60             330               200   \n",
      "Dule                      750        220             430               100   \n",
      "Armacao                   710        190             390               150   \n",
      "Bar do Lu                 580          0             260               260   \n",
      "Fest house                830        290             510               180   \n",
      "Cachorao do naldinho      560        340             620                80   \n",
      "\n",
      "                      Bar do broa  Inove  Dule  Mansao gastropub  \\\n",
      "Joao pinheiro                  65    170    55               230   \n",
      "Faminas                       520    370   430               410   \n",
      "Mansao gastropub              290    140   170                 0   \n",
      "Bar da fatinha                470    330   430               300   \n",
      "Bar do broa                     0    240   100               290   \n",
      "Rei do cachorao                50    180   100               260   \n",
      "Lagoa da Gavea                220    110   220               140   \n",
      "Cristo                        150    110   110               130   \n",
      "Bar betinho                   110    210   160               290   \n",
      "Santa marcelina               130    110    24               160   \n",
      "Hospital Sao Paulo            100    180   100               270   \n",
      "Praca do rosario               80    150   120               240   \n",
      "Inove                         240      0   120               130   \n",
      "Dule                          100    160     0               240   \n",
      "Armacao                       150    130    40               190   \n",
      "Bar do Lu                     410    110   170               190   \n",
      "Fest house                    100    230   150               320   \n",
      "Cachorao do naldinho          140    280   180               330   \n",
      "\n",
      "                      Joao pinheiro  Bar betinho  Hospital Sao Paulo  Armacao  \\\n",
      "Joao pinheiro                     0          130                 160       85   \n",
      "Faminas                         460          530                 470      410   \n",
      "Mansao gastropub                230          300                 240      190   \n",
      "Bar da fatinha                  420          480                 470      390   \n",
      "Bar do broa                      50          110                 100      150   \n",
      "Rei do cachorao                  80           50                 140      160   \n",
      "Lagoa da Gavea                  160          230                 180      130   \n",
      "Cristo                          160          160                 170      120   \n",
      "Bar betinho                     130            0                 200      180   \n",
      "Santa marcelina                  75          170                  90       55   \n",
      "Hospital Sao Paulo               80          180                   0      120   \n",
      "Praca do rosario                100           50                 170      150   \n",
      "Inove                           170          250                  63      130   \n",
      "Dule                             50          150                  80       15   \n",
      "Armacao                         100          180                 120        0   \n",
      "Bar do Lu                       220          310                 210      190   \n",
      "Fest house                      130          200                  55      170   \n",
      "Cachorao do naldinho            130           90                 240      210   \n",
      "\n",
      "                      Cristo  Rei do cachorao  Santa marcelina  \\\n",
      "Joao pinheiro            110               80               45   \n",
      "Faminas                  420              510              450   \n",
      "Mansao gastropub         170              260              220   \n",
      "Bar da fatinha           330              450              360   \n",
      "Bar do broa              150               50              130   \n",
      "Rei do cachorao          140                0              130   \n",
      "Lagoa da Gavea            60              190              150   \n",
      "Cristo                     0              120              120   \n",
      "Bar betinho              180               55              140   \n",
      "Santa marcelina          160              130                0   \n",
      "Hospital Sao Paulo       150              140              120   \n",
      "Praca do rosario         120               29               90   \n",
      "Inove                    120              210              160   \n",
      "Dule                     120              110               40   \n",
      "Armacao                  180              160               60   \n",
      "Bar do Lu                180              270              210   \n",
      "Fest house               200              140              130   \n",
      "Cachorao do naldinho     200              100              150   \n",
      "\n",
      "                      Cachorao do naldinho  Fest house  Lagoa da Gavea  \n",
      "Joao pinheiro                          130         150             170  \n",
      "Faminas                                560         550             420  \n",
      "Mansao gastropub                       330         290             160  \n",
      "Bar da fatinha                         500         510             340  \n",
      "Bar do broa                            150         100             220  \n",
      "Rei do cachorao                        100         150             200  \n",
      "Lagoa da Gavea                         260         230               0  \n",
      "Cristo                                 190         230              55  \n",
      "Bar betinho                            110         200             240  \n",
      "Santa marcelina                         70         140             160  \n",
      "Hospital Sao Paulo                     200          55             210  \n",
      "Praca do rosario                        80         180             180  \n",
      "Inove                                  280         240             120  \n",
      "Dule                                   180         120             190  \n",
      "Armacao                                220         170             180  \n",
      "Bar do Lu                              450         290             180  \n",
      "Fest house                             250           0             260  \n",
      "Cachorao do naldinho                     0         240             260  \n"
     ]
    }
   ],
   "source": [
    "file_path = 'CSV Rotas - Base de Dados.csv'\n",
    "\n",
    "with open(file_path, 'r') as file:\n",
    "    lines = file.readlines()\n",
    "    cleaned_lines = [line.strip(',\\n') for line in lines]\n",
    "\n",
    "from io import StringIO\n",
    "cleaned_data = StringIO('\\n'.join(cleaned_lines))\n",
    "distancias_df = pd.read_csv(cleaned_data, index_col=0)\n",
    "distancias_df = distancias_df.apply(pd.to_numeric, errors='coerce').fillna(float('inf'))\n",
    "\n",
    "print(\"Dados limpos:\")\n",
    "print(distancias_df)"
   ]
  },
  {
   "cell_type": "code",
   "execution_count": 3,
   "metadata": {},
   "outputs": [
    {
     "name": "stdout",
     "output_type": "stream",
     "text": [
      "Locais do arquivo locais.csv: ['Faminas', 'Joao pinheiro', 'Dule']\n",
      "Cidades do DataFrame de distâncias: ['Joao pinheiro', 'Faminas', 'Mansao gastropub', 'Bar da fatinha', 'Bar do broa', 'Rei do cachorao', 'Lagoa da Gavea', 'Cristo', 'Bar betinho', 'Santa marcelina', 'Hospital Sao Paulo', 'Praca do rosario', 'Inove', 'Dule', 'Armacao', 'Bar do Lu', 'Fest house', 'Cachorao do naldinho']\n"
     ]
    }
   ],
   "source": [
    "locais_df = pd.read_csv('locais.csv')\n",
    "locais = locais_df['Locais'].tolist()\n",
    "\n",
    "print(\"Locais do arquivo locais.csv:\", locais)\n",
    "print(\"Cidades do DataFrame de distâncias:\", list(distancias_df.index))"
   ]
  },
  {
   "cell_type": "code",
   "execution_count": 4,
   "metadata": {},
   "outputs": [
    {
     "name": "stdout",
     "output_type": "stream",
     "text": [
      "Cidades finais após o filtro: ['Dule', 'Faminas', 'Joao pinheiro']\n",
      "Locais finais após o filtro: ['Faminas', 'Joao pinheiro', 'Dule']\n"
     ]
    }
   ],
   "source": [
    "cidades_comuns = list(set(distancias_df.index).intersection(locais))\n",
    "distancias_df = distancias_df.loc[cidades_comuns, cidades_comuns]\n",
    "locais_finais = [local for local in locais if local in cidades_comuns]\n",
    "\n",
    "if not locais_finais:\n",
    "    raise ValueError(\"Nenhum dos locais do arquivo locais.csv está presente na matriz de distâncias.\")\n",
    "print(\"Cidades finais após o filtro:\", cidades_comuns)\n",
    "print(\"Locais finais após o filtro:\", locais_finais)"
   ]
  },
  {
   "cell_type": "code",
   "execution_count": 5,
   "metadata": {},
   "outputs": [],
   "source": [
    "distancias = distancias_df.values\n",
    "cidades = list(distancias_df.index)\n",
    "\n",
    "num_formigas = 10\n",
    "num_iteracoes = 1000\n",
    "alpha = 1.0\n",
    "beta = 2.0\n",
    "rho = 0.5 \n",
    "Q = 100\n",
    "\n",
    "num_cidades = len(cidades)\n",
    "feromonios = np.ones((num_cidades, num_cidades)) / num_cidades"
   ]
  },
  {
   "cell_type": "code",
   "execution_count": 6,
   "metadata": {},
   "outputs": [],
   "source": [
    "def avalia_solucao(solucao):\n",
    "    distancia_total = 0\n",
    "    for i in range(len(solucao) - 1):\n",
    "        distancia_total += distancias[cidades.index(solucao[i]), cidades.index(solucao[i + 1])]\n",
    "    distancia_total += distancias[cidades.index(solucao[-1]), cidades.index(solucao[0])]\n",
    "    return distancia_total\n",
    "\n",
    "def construir_solucao():\n",
    "    solucao = []\n",
    "    visitadas = [False] * num_cidades\n",
    "    cidade_atual = np.random.choice(locais_finais)\n",
    "    solucao.append(cidade_atual)\n",
    "    visitadas[cidades.index(cidade_atual)] = True\n",
    "\n",
    "    for _ in range(num_cidades - 1):\n",
    "        probabilidades = []\n",
    "        for cidade in range(num_cidades):\n",
    "            if not visitadas[cidade]:\n",
    "                tau = feromonios[cidades.index(cidade_atual)][cidade] ** alpha\n",
    "                eta = (1 / distancias[cidades.index(cidade_atual)][cidade]) ** beta if distancias[cidades.index(cidade_atual)][cidade] > 0 else 0\n",
    "                probabilidades.append(tau * eta)\n",
    "            else:\n",
    "                probabilidades.append(0)\n",
    "        \n",
    "        probabilidades = np.array(probabilidades)\n",
    "        soma_probabilidades = probabilidades.sum()\n",
    "        \n",
    "        if soma_probabilidades == 0:\n",
    "            cidades_nao_visitadas = [cidades[cidade] for cidade in range(num_cidades) if not visitadas[cidade]]\n",
    "            cidade_atual = np.random.choice(cidades_nao_visitadas)\n",
    "        else:\n",
    "            probabilidades /= soma_probabilidades\n",
    "            cidade_atual = np.random.choice(cidades, p=probabilidades)\n",
    "        \n",
    "        solucao.append(cidade_atual)\n",
    "        visitadas[cidades.index(cidade_atual)] = True\n",
    "\n",
    "    return solucao"
   ]
  },
  {
   "cell_type": "code",
   "execution_count": 7,
   "metadata": {},
   "outputs": [],
   "source": [
    "melhor_solucao = None\n",
    "menor_distancia = float('inf')\n",
    "\n",
    "for iteracao in range(num_iteracoes):\n",
    "    solucoes = []\n",
    "    distancias_solucoes = []\n",
    "\n",
    "    for formiga in range(num_formigas):\n",
    "        solucao = construir_solucao()\n",
    "        distancia = avalia_solucao(solucao)\n",
    "        solucoes.append(solucao)\n",
    "        distancias_solucoes.append(distancia)\n",
    "\n",
    "        if distancia < menor_distancia:\n",
    "            melhor_solucao = solucao\n",
    "            menor_distancia = distancia\n",
    "\n",
    "    feromonios *= (1 - rho)\n",
    "    for solucao, distancia in zip(solucoes, distancias_solucoes):\n",
    "        for i in range(len(solucao) - 1):\n",
    "            feromonios[cidades.index(solucao[i])][cidades.index(solucao[i + 1])] += Q / distancia\n",
    "            feromonios[cidades.index(solucao[i + 1])][cidades.index(solucao[i])] += Q / distancia\n",
    "        feromonios[cidades.index(solucao[-1])][cidades.index(solucao[0])] += Q / distancia\n",
    "        feromonios[cidades.index(solucao[0])][cidades.index(solucao[-1])] += Q / distancia"
   ]
  },
  {
   "cell_type": "code",
   "execution_count": 8,
   "metadata": {},
   "outputs": [
    {
     "name": "stdout",
     "output_type": "stream",
     "text": [
      "Melhor solução encontrada: ['Dule', 'Joao pinheiro', 'Faminas']\n",
      "Menor distância encontrada: 940\n",
      "Distância da melhor solução calculada na ordem: 940  metros\n"
     ]
    }
   ],
   "source": [
    "distancia_melhor_solucao = avalia_solucao(melhor_solucao)\n",
    "\n",
    "print(\"Melhor solução encontrada:\", melhor_solucao)\n",
    "print(\"Menor distância encontrada:\", menor_distancia)\n",
    "print(\"Distância da melhor solução calculada na ordem:\", distancia_melhor_solucao, \" metros\")"
   ]
  },
  {
   "cell_type": "code",
   "execution_count": null,
   "metadata": {},
   "outputs": [],
   "source": []
  }
 ],
 "metadata": {
  "kernelspec": {
   "display_name": "Python 3",
   "language": "python",
   "name": "python3"
  },
  "language_info": {
   "codemirror_mode": {
    "name": "ipython",
    "version": 3
   },
   "file_extension": ".py",
   "mimetype": "text/x-python",
   "name": "python",
   "nbconvert_exporter": "python",
   "pygments_lexer": "ipython3",
   "version": "3.12.2"
  }
 },
 "nbformat": 4,
 "nbformat_minor": 2
}
